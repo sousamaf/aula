{
 "cells": [
  {
   "cell_type": "code",
   "execution_count": 29,
   "id": "b6308dcb-68b0-4481-bf09-92bbdec75687",
   "metadata": {},
   "outputs": [],
   "source": [
    "import pandas as pd\n",
    "import numpy as np\n",
    "import requests\n",
    "import zipfile\n",
    "from io import BytesIO"
   ]
  },
  {
   "cell_type": "markdown",
   "id": "afce6212-7ff5-43f8-9802-5e72fce73d65",
   "metadata": {},
   "source": [
    "# Prática 1\n",
    "\n",
    "## Contexto do dataset\n",
    "\n",
    "Trata-se de um dataset proveniente de simulação de rede com três slices e cinco clientes demandantes.\n",
    "\n",
    "Observações:\n",
    "\n",
    "- O dataset não está normalizado. Há a necessidade de fazer;\n",
    "\n",
    "- Há atributos categóricos e textuais não compatíveis com algoritmos que utilizem medidas de distâncial;"
   ]
  },
  {
   "cell_type": "code",
   "execution_count": 4,
   "id": "dc5712a2-b83b-420d-a13f-6531a2148a53",
   "metadata": {},
   "outputs": [
    {
     "data": {
      "text/plain": [
       "['Latency',\n",
       " 'Jitter',\n",
       " 'Loss',\n",
       " 'Bandwidth',\n",
       " 'Transfer',\n",
       " 'Distance',\n",
       " 'Reliability']"
      ]
     },
     "execution_count": 4,
     "metadata": {},
     "output_type": "execute_result"
    }
   ],
   "source": [
    "df = pd.read_csv(\"data/dataset_n_normalizado.csv\")\n",
    "\n",
    "columns = [\"Latency\", \"Jitter\", \"Loss\", \"Bandwidth\", \"Transfer\", \"Distance\", \"Reliability\"]\n",
    "columns"
   ]
  },
  {
   "cell_type": "code",
   "execution_count": 5,
   "id": "80149e4e-07ec-41e3-9c9f-68e87d4a4e55",
   "metadata": {},
   "outputs": [],
   "source": [
    "df_numeric = df[columns]"
   ]
  },
  {
   "cell_type": "code",
   "execution_count": 65,
   "id": "11b8b961-4afd-4e1e-9c97-d2bff654a0cc",
   "metadata": {},
   "outputs": [],
   "source": [
    "def has_null(df_local):\n",
    "    isNuN = df_local.isna().unique()\n",
    "    \n",
    "    if len(isNuN) == 1 & isNuN[0] == False:\n",
    "        return True\n",
    "    return False"
   ]
  },
  {
   "cell_type": "code",
   "execution_count": 66,
   "id": "2aa09f62-72f7-485c-9841-719c8cc3b0b2",
   "metadata": {},
   "outputs": [
    {
     "data": {
      "text/plain": [
       "False"
      ]
     },
     "execution_count": 66,
     "metadata": {},
     "output_type": "execute_result"
    }
   ],
   "source": [
    "has_null(df_numeric.Latency)"
   ]
  },
  {
   "cell_type": "code",
   "execution_count": 68,
   "id": "72218dcc-06e5-43b1-9e5f-10019e50bc53",
   "metadata": {},
   "outputs": [
    {
     "data": {
      "text/plain": [
       "count    1943.000000\n",
       "mean        1.067772\n",
       "std         0.341916\n",
       "min         0.554000\n",
       "25%         0.757000\n",
       "50%         1.068000\n",
       "75%         1.439000\n",
       "max         1.878000\n",
       "Name: Latency, dtype: float64"
      ]
     },
     "execution_count": 68,
     "metadata": {},
     "output_type": "execute_result"
    }
   ],
   "source": [
    "df.Latency.describe()"
   ]
  },
  {
   "cell_type": "code",
   "execution_count": 69,
   "id": "c55a8d1b-e891-4d25-8fe8-0a60f0f38892",
   "metadata": {},
   "outputs": [
    {
     "data": {
      "text/html": [
       "<div>\n",
       "<style scoped>\n",
       "    .dataframe tbody tr th:only-of-type {\n",
       "        vertical-align: middle;\n",
       "    }\n",
       "\n",
       "    .dataframe tbody tr th {\n",
       "        vertical-align: top;\n",
       "    }\n",
       "\n",
       "    .dataframe thead th {\n",
       "        text-align: right;\n",
       "    }\n",
       "</style>\n",
       "<table border=\"1\" class=\"dataframe\">\n",
       "  <thead>\n",
       "    <tr style=\"text-align: right;\">\n",
       "      <th></th>\n",
       "      <th>Latency</th>\n",
       "      <th>Jitter</th>\n",
       "      <th>Loss</th>\n",
       "      <th>Protocol</th>\n",
       "      <th>Bandwidth</th>\n",
       "      <th>Transfer</th>\n",
       "      <th>UE</th>\n",
       "      <th>experiment</th>\n",
       "      <th>Distance</th>\n",
       "      <th>Reliability</th>\n",
       "    </tr>\n",
       "  </thead>\n",
       "  <tbody>\n",
       "    <tr>\n",
       "      <th>0</th>\n",
       "      <td>1.467</td>\n",
       "      <td>1.662564</td>\n",
       "      <td>1</td>\n",
       "      <td>UDP</td>\n",
       "      <td>20000.0</td>\n",
       "      <td>715000.0</td>\n",
       "      <td>1</td>\n",
       "      <td>1</td>\n",
       "      <td>21.671572</td>\n",
       "      <td>99.992035</td>\n",
       "    </tr>\n",
       "    <tr>\n",
       "      <th>1</th>\n",
       "      <td>0.910</td>\n",
       "      <td>0.591290</td>\n",
       "      <td>1</td>\n",
       "      <td>UDP</td>\n",
       "      <td>20000.0</td>\n",
       "      <td>715000.0</td>\n",
       "      <td>1</td>\n",
       "      <td>1</td>\n",
       "      <td>47.952992</td>\n",
       "      <td>99.991663</td>\n",
       "    </tr>\n",
       "    <tr>\n",
       "      <th>2</th>\n",
       "      <td>0.835</td>\n",
       "      <td>0.562661</td>\n",
       "      <td>0</td>\n",
       "      <td>UDP</td>\n",
       "      <td>20000.0</td>\n",
       "      <td>715000.0</td>\n",
       "      <td>1</td>\n",
       "      <td>1</td>\n",
       "      <td>53.945823</td>\n",
       "      <td>99.989815</td>\n",
       "    </tr>\n",
       "    <tr>\n",
       "      <th>3</th>\n",
       "      <td>0.887</td>\n",
       "      <td>0.594343</td>\n",
       "      <td>1</td>\n",
       "      <td>UDP</td>\n",
       "      <td>20000.0</td>\n",
       "      <td>715000.0</td>\n",
       "      <td>1</td>\n",
       "      <td>1</td>\n",
       "      <td>57.463017</td>\n",
       "      <td>99.995995</td>\n",
       "    </tr>\n",
       "    <tr>\n",
       "      <th>4</th>\n",
       "      <td>0.911</td>\n",
       "      <td>0.600579</td>\n",
       "      <td>0</td>\n",
       "      <td>UDP</td>\n",
       "      <td>20000.0</td>\n",
       "      <td>715000.0</td>\n",
       "      <td>1</td>\n",
       "      <td>1</td>\n",
       "      <td>51.108410</td>\n",
       "      <td>99.991657</td>\n",
       "    </tr>\n",
       "    <tr>\n",
       "      <th>...</th>\n",
       "      <td>...</td>\n",
       "      <td>...</td>\n",
       "      <td>...</td>\n",
       "      <td>...</td>\n",
       "      <td>...</td>\n",
       "      <td>...</td>\n",
       "      <td>...</td>\n",
       "      <td>...</td>\n",
       "      <td>...</td>\n",
       "      <td>...</td>\n",
       "    </tr>\n",
       "    <tr>\n",
       "      <th>1938</th>\n",
       "      <td>0.577</td>\n",
       "      <td>0.422181</td>\n",
       "      <td>0</td>\n",
       "      <td>TCP</td>\n",
       "      <td>15010.0</td>\n",
       "      <td>536000.0</td>\n",
       "      <td>5</td>\n",
       "      <td>11</td>\n",
       "      <td>61.233174</td>\n",
       "      <td>99.994667</td>\n",
       "    </tr>\n",
       "    <tr>\n",
       "      <th>1939</th>\n",
       "      <td>0.863</td>\n",
       "      <td>1.018604</td>\n",
       "      <td>1</td>\n",
       "      <td>TCP</td>\n",
       "      <td>15010.0</td>\n",
       "      <td>536000.0</td>\n",
       "      <td>5</td>\n",
       "      <td>11</td>\n",
       "      <td>15.550016</td>\n",
       "      <td>99.990801</td>\n",
       "    </tr>\n",
       "    <tr>\n",
       "      <th>1940</th>\n",
       "      <td>0.559</td>\n",
       "      <td>0.425855</td>\n",
       "      <td>0</td>\n",
       "      <td>TCP</td>\n",
       "      <td>15010.0</td>\n",
       "      <td>536000.0</td>\n",
       "      <td>5</td>\n",
       "      <td>11</td>\n",
       "      <td>68.832159</td>\n",
       "      <td>99.992738</td>\n",
       "    </tr>\n",
       "    <tr>\n",
       "      <th>1941</th>\n",
       "      <td>0.580</td>\n",
       "      <td>0.461372</td>\n",
       "      <td>0</td>\n",
       "      <td>TCP</td>\n",
       "      <td>15010.0</td>\n",
       "      <td>536000.0</td>\n",
       "      <td>5</td>\n",
       "      <td>11</td>\n",
       "      <td>68.223138</td>\n",
       "      <td>99.994853</td>\n",
       "    </tr>\n",
       "    <tr>\n",
       "      <th>1942</th>\n",
       "      <td>0.598</td>\n",
       "      <td>0.473480</td>\n",
       "      <td>0</td>\n",
       "      <td>TCP</td>\n",
       "      <td>15010.0</td>\n",
       "      <td>536000.0</td>\n",
       "      <td>5</td>\n",
       "      <td>11</td>\n",
       "      <td>85.626875</td>\n",
       "      <td>99.986560</td>\n",
       "    </tr>\n",
       "  </tbody>\n",
       "</table>\n",
       "<p>1943 rows × 10 columns</p>\n",
       "</div>"
      ],
      "text/plain": [
       "      Latency    Jitter  Loss Protocol  Bandwidth  Transfer  UE  experiment  \\\n",
       "0       1.467  1.662564     1      UDP    20000.0  715000.0   1           1   \n",
       "1       0.910  0.591290     1      UDP    20000.0  715000.0   1           1   \n",
       "2       0.835  0.562661     0      UDP    20000.0  715000.0   1           1   \n",
       "3       0.887  0.594343     1      UDP    20000.0  715000.0   1           1   \n",
       "4       0.911  0.600579     0      UDP    20000.0  715000.0   1           1   \n",
       "...       ...       ...   ...      ...        ...       ...  ..         ...   \n",
       "1938    0.577  0.422181     0      TCP    15010.0  536000.0   5          11   \n",
       "1939    0.863  1.018604     1      TCP    15010.0  536000.0   5          11   \n",
       "1940    0.559  0.425855     0      TCP    15010.0  536000.0   5          11   \n",
       "1941    0.580  0.461372     0      TCP    15010.0  536000.0   5          11   \n",
       "1942    0.598  0.473480     0      TCP    15010.0  536000.0   5          11   \n",
       "\n",
       "       Distance  Reliability  \n",
       "0     21.671572    99.992035  \n",
       "1     47.952992    99.991663  \n",
       "2     53.945823    99.989815  \n",
       "3     57.463017    99.995995  \n",
       "4     51.108410    99.991657  \n",
       "...         ...          ...  \n",
       "1938  61.233174    99.994667  \n",
       "1939  15.550016    99.990801  \n",
       "1940  68.832159    99.992738  \n",
       "1941  68.223138    99.994853  \n",
       "1942  85.626875    99.986560  \n",
       "\n",
       "[1943 rows x 10 columns]"
      ]
     },
     "execution_count": 69,
     "metadata": {},
     "output_type": "execute_result"
    }
   ],
   "source": [
    "df"
   ]
  },
  {
   "cell_type": "code",
   "execution_count": 15,
   "id": "330361a8-0983-44c5-bd50-d7b9d759667e",
   "metadata": {},
   "outputs": [],
   "source": [
    "# matriz = np.loadtxt(\"data/dataset_n_normalizado.csv\", delimiter=\",\", skiprows=1)\n",
    "\n",
    "matriz = np.genfromtxt(\"data/dataset_n_normalizado.csv\", delimiter=\",\", skip_header=1)"
   ]
  },
  {
   "cell_type": "code",
   "execution_count": 17,
   "id": "50fff461-b2b9-45e1-9d17-d6b7bcd65690",
   "metadata": {},
   "outputs": [
    {
     "data": {
      "text/plain": [
       "array([1.46700000e+00, 1.66256436e+00, 1.00000000e+00,            nan,\n",
       "       2.00000000e+04, 7.15000000e+05, 1.00000000e+00, 1.00000000e+00,\n",
       "       2.16715719e+01, 9.99920347e+01])"
      ]
     },
     "execution_count": 17,
     "metadata": {},
     "output_type": "execute_result"
    }
   ],
   "source": [
    "matriz[0]"
   ]
  },
  {
   "cell_type": "code",
   "execution_count": 20,
   "id": "7832a542-189e-4770-82cc-133a0683a747",
   "metadata": {},
   "outputs": [
    {
     "data": {
      "text/plain": [
       "numpy.ndarray"
      ]
     },
     "execution_count": 20,
     "metadata": {},
     "output_type": "execute_result"
    }
   ],
   "source": [
    "type(matriz)"
   ]
  },
  {
   "cell_type": "code",
   "execution_count": 68,
   "id": "2c8de435-69f7-448f-8fad-e740aefa6052",
   "metadata": {},
   "outputs": [
    {
     "data": {
      "text/plain": [
       "pandas.core.frame.DataFrame"
      ]
     },
     "execution_count": 68,
     "metadata": {},
     "output_type": "execute_result"
    }
   ],
   "source": [
    "type(df)"
   ]
  }
 ],
 "metadata": {
  "kernelspec": {
   "display_name": "Python 3",
   "language": "python",
   "name": "python3"
  },
  "language_info": {
   "codemirror_mode": {
    "name": "ipython",
    "version": 3
   },
   "file_extension": ".py",
   "mimetype": "text/x-python",
   "name": "python",
   "nbconvert_exporter": "python",
   "pygments_lexer": "ipython3",
   "version": "3.8.10"
  }
 },
 "nbformat": 4,
 "nbformat_minor": 5
}
