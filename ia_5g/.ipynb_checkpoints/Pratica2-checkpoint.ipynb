{
 "cells": [
  {
   "cell_type": "code",
   "execution_count": 1,
   "id": "b6308dcb-68b0-4481-bf09-92bbdec75687",
   "metadata": {},
   "outputs": [],
   "source": [
    "import pandas as pd\n",
    "import numpy as np\n",
    "import requests\n",
    "import zipfile\n",
    "from io import BytesIO"
   ]
  },
  {
   "cell_type": "markdown",
   "id": "8cf58f2f-2cdb-4c61-a71e-491d931e5e6a",
   "metadata": {},
   "source": [
    "# Prática 2\n",
    "\n",
    "\n",
    "## Análise de dataset \n",
    "\n",
    "[Dataset 5G](https://github.com/uccmisl/5Gdataset)"
   ]
  },
  {
   "cell_type": "markdown",
   "id": "9711acc3-c15b-4894-b1ca-76d5c9ce4be3",
   "metadata": {},
   "source": [
    "### Download e descompactação do dataset em formato zip:"
   ]
  },
  {
   "cell_type": "code",
   "execution_count": 2,
   "id": "db7e7741-ed3a-40c7-a5e8-a42179ef018e",
   "metadata": {},
   "outputs": [],
   "source": [
    "import pandas as pd\n",
    "import numpy as np\n",
    "import requests\n",
    "import zipfile\n",
    "from io import BytesIO\n",
    "\n",
    "url_dataset = \"https://github.com/uccmisl/5Gdataset/raw/master/5G-production-dataset.zip\"\n",
    "\n",
    "r = requests.get(url_dataset)\n",
    "\n",
    "zip_dataset = zipfile.ZipFile(BytesIO(r.content))\n"
   ]
  },
  {
   "cell_type": "code",
   "execution_count": 3,
   "id": "92bf9b73-89e0-4f52-824d-9e33c1adacff",
   "metadata": {},
   "outputs": [],
   "source": [
    "zip_dataset.extractall()"
   ]
  },
  {
   "cell_type": "markdown",
   "id": "23f96cf6-1ef9-4bb8-a38e-56c6f3c4f6b5",
   "metadata": {},
   "source": [
    "### Carregamento dos arquivos do contexto \"Download\" e \"Static\"."
   ]
  },
  {
   "cell_type": "code",
   "execution_count": 4,
   "id": "59437606-888d-40a2-98dd-2c7bb2300eb4",
   "metadata": {},
   "outputs": [
    {
     "name": "stdout",
     "output_type": "stream",
     "text": [
      "<class 'pandas.core.frame.DataFrame'>\n",
      "Int64Index: 15617 entries, 0 to 5990\n",
      "Data columns (total 26 columns):\n",
      " #   Column        Non-Null Count  Dtype  \n",
      "---  ------        --------------  -----  \n",
      " 0   Timestamp     15617 non-null  object \n",
      " 1   Longitude     15617 non-null  float64\n",
      " 2   Latitude      15617 non-null  float64\n",
      " 3   Speed         15617 non-null  int64  \n",
      " 4   Operatorname  15617 non-null  object \n",
      " 5   CellID        15617 non-null  int64  \n",
      " 6   NetworkMode   15617 non-null  object \n",
      " 7   RSRP          15617 non-null  int64  \n",
      " 8   RSRQ          15617 non-null  object \n",
      " 9   SNR           15617 non-null  float64\n",
      " 10  CQI           15617 non-null  int64  \n",
      " 11  RSSI          15617 non-null  object \n",
      " 12  DL_bitrate    15617 non-null  int64  \n",
      " 13  UL_bitrate    15617 non-null  int64  \n",
      " 14  State         15617 non-null  object \n",
      " 15  PINGAVG       15617 non-null  object \n",
      " 16  PINGMIN       15617 non-null  object \n",
      " 17  PINGMAX       15617 non-null  object \n",
      " 18  PINGSTDEV     15617 non-null  object \n",
      " 19  PINGLOSS      15617 non-null  object \n",
      " 20  CELLHEX       15617 non-null  object \n",
      " 21  NODEHEX       15617 non-null  object \n",
      " 22  LACHEX        15617 non-null  object \n",
      " 23  RAWCELLID     15617 non-null  int64  \n",
      " 24  NRxRSRP       15617 non-null  object \n",
      " 25  NRxRSRQ       15617 non-null  object \n",
      "dtypes: float64(3), int64(7), object(16)\n",
      "memory usage: 3.2+ MB\n"
     ]
    }
   ],
   "source": [
    "url_dl_static1 = \"5G-production-dataset/Download/Static/B_2019.12.16_13.40.04.csv\"\n",
    "url_dl_static2 = \"5G-production-dataset/Download/Static/B_2020.01.16_10.43.34.csv\"\n",
    "url_dl_static3 = \"5G-production-dataset/Download/Static/B_2020.02.13_13.57.29.csv\"\n",
    "url_dl_static4 = \"5G-production-dataset/Download/Static/B_2020.02.14_13.21.26.csv\"\n",
    "url_dl_static5 = \"5G-production-dataset/Download/Static/B_2020.02.27_18.39.27.csv\"\n",
    "\n",
    "\n",
    "df_dl_static1 = pd.read_csv(url_dl_static1)\n",
    "df_dl_static2 = pd.read_csv(url_dl_static2)\n",
    "df_dl_static3 = pd.read_csv(url_dl_static3)\n",
    "df_dl_static4 = pd.read_csv(url_dl_static4)\n",
    "df_dl_static5 = pd.read_csv(url_dl_static5)\n",
    "\n",
    "dfs = [df_dl_static1, df_dl_static2, df_dl_static3, df_dl_static4, df_dl_static5]\n",
    "df = pd.concat(dfs)\n",
    "df.info()\n",
    "\n",
    "df_qoe = df"
   ]
  },
  {
   "cell_type": "markdown",
   "id": "9ed8fc8f-eca5-49ee-9c76-68a1c1161438",
   "metadata": {},
   "source": [
    "### Análise exploratória básica:"
   ]
  },
  {
   "cell_type": "code",
   "execution_count": 9,
   "id": "63221340-bc66-41ec-8f92-4ebb48b92eb9",
   "metadata": {},
   "outputs": [
    {
     "data": {
      "text/html": [
       "<div>\n",
       "<style scoped>\n",
       "    .dataframe tbody tr th:only-of-type {\n",
       "        vertical-align: middle;\n",
       "    }\n",
       "\n",
       "    .dataframe tbody tr th {\n",
       "        vertical-align: top;\n",
       "    }\n",
       "\n",
       "    .dataframe thead th {\n",
       "        text-align: right;\n",
       "    }\n",
       "</style>\n",
       "<table border=\"1\" class=\"dataframe\">\n",
       "  <thead>\n",
       "    <tr style=\"text-align: right;\">\n",
       "      <th></th>\n",
       "      <th>Longitude</th>\n",
       "      <th>Latitude</th>\n",
       "      <th>Speed</th>\n",
       "      <th>CellID</th>\n",
       "      <th>RSRP</th>\n",
       "      <th>SNR</th>\n",
       "      <th>CQI</th>\n",
       "      <th>DL_bitrate</th>\n",
       "      <th>UL_bitrate</th>\n",
       "      <th>RAWCELLID</th>\n",
       "    </tr>\n",
       "  </thead>\n",
       "  <tbody>\n",
       "    <tr>\n",
       "      <th>count</th>\n",
       "      <td>15617.000000</td>\n",
       "      <td>15617.000000</td>\n",
       "      <td>15617.0</td>\n",
       "      <td>15617.0</td>\n",
       "      <td>15617.000000</td>\n",
       "      <td>15617.000000</td>\n",
       "      <td>15617.000000</td>\n",
       "      <td>15617.000000</td>\n",
       "      <td>15617.000000</td>\n",
       "      <td>15617.0</td>\n",
       "    </tr>\n",
       "    <tr>\n",
       "      <th>mean</th>\n",
       "      <td>-8.394604</td>\n",
       "      <td>51.886200</td>\n",
       "      <td>0.0</td>\n",
       "      <td>11.0</td>\n",
       "      <td>-99.914964</td>\n",
       "      <td>2.789524</td>\n",
       "      <td>10.485561</td>\n",
       "      <td>66655.832490</td>\n",
       "      <td>146.119101</td>\n",
       "      <td>10805003.0</td>\n",
       "    </tr>\n",
       "    <tr>\n",
       "      <th>std</th>\n",
       "      <td>0.000047</td>\n",
       "      <td>0.000060</td>\n",
       "      <td>0.0</td>\n",
       "      <td>0.0</td>\n",
       "      <td>2.750734</td>\n",
       "      <td>3.583900</td>\n",
       "      <td>2.085503</td>\n",
       "      <td>77031.047754</td>\n",
       "      <td>109.743434</td>\n",
       "      <td>0.0</td>\n",
       "    </tr>\n",
       "    <tr>\n",
       "      <th>min</th>\n",
       "      <td>-8.394656</td>\n",
       "      <td>51.886113</td>\n",
       "      <td>0.0</td>\n",
       "      <td>11.0</td>\n",
       "      <td>-108.000000</td>\n",
       "      <td>-11.000000</td>\n",
       "      <td>1.000000</td>\n",
       "      <td>0.000000</td>\n",
       "      <td>0.000000</td>\n",
       "      <td>10805003.0</td>\n",
       "    </tr>\n",
       "    <tr>\n",
       "      <th>25%</th>\n",
       "      <td>-8.394656</td>\n",
       "      <td>51.886144</td>\n",
       "      <td>0.0</td>\n",
       "      <td>11.0</td>\n",
       "      <td>-102.000000</td>\n",
       "      <td>1.000000</td>\n",
       "      <td>9.000000</td>\n",
       "      <td>11156.000000</td>\n",
       "      <td>67.000000</td>\n",
       "      <td>10805003.0</td>\n",
       "    </tr>\n",
       "    <tr>\n",
       "      <th>50%</th>\n",
       "      <td>-8.394628</td>\n",
       "      <td>51.886198</td>\n",
       "      <td>0.0</td>\n",
       "      <td>11.0</td>\n",
       "      <td>-100.000000</td>\n",
       "      <td>3.000000</td>\n",
       "      <td>11.000000</td>\n",
       "      <td>29359.000000</td>\n",
       "      <td>141.000000</td>\n",
       "      <td>10805003.0</td>\n",
       "    </tr>\n",
       "    <tr>\n",
       "      <th>75%</th>\n",
       "      <td>-8.394564</td>\n",
       "      <td>51.886262</td>\n",
       "      <td>0.0</td>\n",
       "      <td>11.0</td>\n",
       "      <td>-98.000000</td>\n",
       "      <td>5.000000</td>\n",
       "      <td>12.000000</td>\n",
       "      <td>98442.000000</td>\n",
       "      <td>218.000000</td>\n",
       "      <td>10805003.0</td>\n",
       "    </tr>\n",
       "    <tr>\n",
       "      <th>max</th>\n",
       "      <td>-8.394545</td>\n",
       "      <td>51.886262</td>\n",
       "      <td>0.0</td>\n",
       "      <td>11.0</td>\n",
       "      <td>-93.000000</td>\n",
       "      <td>15.000000</td>\n",
       "      <td>15.000000</td>\n",
       "      <td>333070.000000</td>\n",
       "      <td>1251.000000</td>\n",
       "      <td>10805003.0</td>\n",
       "    </tr>\n",
       "  </tbody>\n",
       "</table>\n",
       "</div>"
      ],
      "text/plain": [
       "          Longitude      Latitude    Speed   CellID          RSRP  \\\n",
       "count  15617.000000  15617.000000  15617.0  15617.0  15617.000000   \n",
       "mean      -8.394604     51.886200      0.0     11.0    -99.914964   \n",
       "std        0.000047      0.000060      0.0      0.0      2.750734   \n",
       "min       -8.394656     51.886113      0.0     11.0   -108.000000   \n",
       "25%       -8.394656     51.886144      0.0     11.0   -102.000000   \n",
       "50%       -8.394628     51.886198      0.0     11.0   -100.000000   \n",
       "75%       -8.394564     51.886262      0.0     11.0    -98.000000   \n",
       "max       -8.394545     51.886262      0.0     11.0    -93.000000   \n",
       "\n",
       "                SNR           CQI     DL_bitrate    UL_bitrate   RAWCELLID  \n",
       "count  15617.000000  15617.000000   15617.000000  15617.000000     15617.0  \n",
       "mean       2.789524     10.485561   66655.832490    146.119101  10805003.0  \n",
       "std        3.583900      2.085503   77031.047754    109.743434         0.0  \n",
       "min      -11.000000      1.000000       0.000000      0.000000  10805003.0  \n",
       "25%        1.000000      9.000000   11156.000000     67.000000  10805003.0  \n",
       "50%        3.000000     11.000000   29359.000000    141.000000  10805003.0  \n",
       "75%        5.000000     12.000000   98442.000000    218.000000  10805003.0  \n",
       "max       15.000000     15.000000  333070.000000   1251.000000  10805003.0  "
      ]
     },
     "execution_count": 9,
     "metadata": {},
     "output_type": "execute_result"
    }
   ],
   "source": [
    "df_qoe.describe()"
   ]
  },
  {
   "cell_type": "code",
   "execution_count": 8,
   "id": "9f3237f2-4b66-496e-b6d8-bf5c47ae96f6",
   "metadata": {},
   "outputs": [
    {
     "data": {
      "text/plain": [
       "Index(['Timestamp', 'Longitude', 'Latitude', 'Speed', 'Operatorname', 'CellID',\n",
       "       'NetworkMode', 'RSRP', 'RSRQ', 'SNR', 'CQI', 'RSSI', 'DL_bitrate',\n",
       "       'UL_bitrate', 'State', 'PINGAVG', 'PINGMIN', 'PINGMAX', 'PINGSTDEV',\n",
       "       'PINGLOSS', 'CELLHEX', 'NODEHEX', 'LACHEX', 'RAWCELLID', 'NRxRSRP',\n",
       "       'NRxRSRQ'],\n",
       "      dtype='object')"
      ]
     },
     "execution_count": 8,
     "metadata": {},
     "output_type": "execute_result"
    }
   ],
   "source": [
    "df_qoe.columns"
   ]
  },
  {
   "cell_type": "code",
   "execution_count": 10,
   "id": "2f565932-0871-4209-8504-90921eb8e458",
   "metadata": {},
   "outputs": [
    {
     "name": "stdout",
     "output_type": "stream",
     "text": [
      "<class 'pandas.core.frame.DataFrame'>\n",
      "Int64Index: 15617 entries, 0 to 5990\n",
      "Data columns (total 26 columns):\n",
      " #   Column        Non-Null Count  Dtype  \n",
      "---  ------        --------------  -----  \n",
      " 0   Timestamp     15617 non-null  object \n",
      " 1   Longitude     15617 non-null  float64\n",
      " 2   Latitude      15617 non-null  float64\n",
      " 3   Speed         15617 non-null  int64  \n",
      " 4   Operatorname  15617 non-null  object \n",
      " 5   CellID        15617 non-null  int64  \n",
      " 6   NetworkMode   15617 non-null  object \n",
      " 7   RSRP          15617 non-null  int64  \n",
      " 8   RSRQ          15617 non-null  object \n",
      " 9   SNR           15617 non-null  float64\n",
      " 10  CQI           15617 non-null  int64  \n",
      " 11  RSSI          15617 non-null  object \n",
      " 12  DL_bitrate    15617 non-null  int64  \n",
      " 13  UL_bitrate    15617 non-null  int64  \n",
      " 14  State         15617 non-null  object \n",
      " 15  PINGAVG       15617 non-null  object \n",
      " 16  PINGMIN       15617 non-null  object \n",
      " 17  PINGMAX       15617 non-null  object \n",
      " 18  PINGSTDEV     15617 non-null  object \n",
      " 19  PINGLOSS      15617 non-null  object \n",
      " 20  CELLHEX       15617 non-null  object \n",
      " 21  NODEHEX       15617 non-null  object \n",
      " 22  LACHEX        15617 non-null  object \n",
      " 23  RAWCELLID     15617 non-null  int64  \n",
      " 24  NRxRSRP       15617 non-null  object \n",
      " 25  NRxRSRQ       15617 non-null  object \n",
      "dtypes: float64(3), int64(7), object(16)\n",
      "memory usage: 3.2+ MB\n"
     ]
    }
   ],
   "source": [
    "df_qoe.info()"
   ]
  },
  {
   "cell_type": "markdown",
   "id": "ac190bf6-5add-48c3-8d74-19450a7505d4",
   "metadata": {},
   "source": [
    "#### Construção de Dicionário de Dados\n",
    "\n",
    "'Timestamp' = Refente a data e hora do evento.\n",
    "\n",
    "'Longitude' = Localização do dispositivo do usuário.\n",
    "\n",
    "'Latitude' = Localização do dispositivo do usuário.\n",
    "\n",
    "'Speed' = Velocidade de deslocamento do equipamento do usuário.\n",
    "\n",
    "'Operatorname' = Não sei o que representa, mas contem 'B'.\n",
    "\n",
    "'CellID' = Identificação da célula.\n",
    "\n",
    "'NetworkMode' = Modo de operação da comunicação, por exemplo '5G'.\n",
    "\n",
    "'RSRP' = Reference Signal Received Power\n",
    "\n",
    "'RSRQ' = Reference Signal Received Quality\n",
    "\n",
    "'SNR' = Medida de qualidade relacionada ao ruído.\n",
    "\n",
    "'CQI' = Indicador de Qualidade do Sinal. Range de 1 a 15.\n",
    "\n",
    "'RSSI' = Indicador de Força de Sinal Recebido.\n",
    "\n",
    "'DL_bitrate' = Taxa de download.\n",
    "\n",
    "'UL_bitrate' = Taxa de upload.\n",
    "\n",
    "'State'  = Possui os valores 'D' e 'I'\n",
    "\n",
    "'PINGAVG' = Latência média no ping.\n",
    "\n",
    "'PINGMIN' = Latência mínima no ping.\n",
    "\n",
    "'PINGMAX' = Latência máxima no ping.\n",
    "\n",
    "'PINGSTDEV' = Desvio Padrão da Latência medida via ping.\n",
    "\n",
    "'PINGLOSS'= Porcentagem de comunicação perdida medida via ping.\n",
    "\n",
    "'CELLHEX' = Não sei o que representa. Contem um mesmo valor.\n",
    "\n",
    "'NODEHEX' = Não sei o que representa. Contem um mesmo valor.\n",
    "\n",
    "'LACHEX' = Não sei o que representa. Contem um mesmo valor.\n",
    "\n",
    "'RAWCELLID' = Não sei o que representa. Contem um mesmo valor.\n",
    "\n",
    "'NRxRSRP' = New Radio x Força do Sinal Recebido\n",
    "\n",
    "'NRxRSRQ' = New Radio x Qualidade do Sinal Recebido\n",
    "\n",
    "\n",
    "\n",
    "Estratético, Gerencial ou Operacional."
   ]
  },
  {
   "cell_type": "markdown",
   "id": "f826dac3-c94e-4f20-9558-012b51c01363",
   "metadata": {},
   "source": [
    "### Atividade:\n",
    "\n",
    "Implemente uma forma de aferir o atributo de Qualidade de Experiência de Usuário (QoE)."
   ]
  },
  {
   "cell_type": "code",
   "execution_count": 61,
   "id": "b7f58295-cf5d-4361-af6e-84d3bf4e131f",
   "metadata": {},
   "outputs": [
    {
     "data": {
      "text/plain": [
       "0       0\n",
       "1       0\n",
       "2       0\n",
       "3       0\n",
       "4       0\n",
       "       ..\n",
       "5986    5\n",
       "5987    0\n",
       "5988    0\n",
       "5989    0\n",
       "5990    0\n",
       "Name: QoE, Length: 15617, dtype: int64"
      ]
     },
     "execution_count": 61,
     "metadata": {},
     "output_type": "execute_result"
    }
   ],
   "source": [
    "def calc_qoe(df_local):\n",
    "    qoe = []\n",
    "    # Implementar aqui o cálculo de Qualidade de Experiência de Usuário:\n",
    "    \n",
    "\n",
    "    return qoe\n",
    "\n",
    "qoe = calc_qoe(df)\n",
    "\n",
    "df_qoe['QoE'] = qoe"
   ]
  },
  {
   "cell_type": "code",
   "execution_count": 11,
   "id": "132f606d-3639-466b-963d-917cdb7e7121",
   "metadata": {},
   "outputs": [
    {
     "data": {
      "text/plain": [
       "array(['D', 'I'], dtype=object)"
      ]
     },
     "execution_count": 11,
     "metadata": {},
     "output_type": "execute_result"
    }
   ],
   "source": [
    "df_qoe.State.unique()"
   ]
  },
  {
   "cell_type": "code",
   "execution_count": null,
   "id": "4cf0ebf2-e5fd-47a6-966c-17af843cefe5",
   "metadata": {},
   "outputs": [],
   "source": []
  }
 ],
 "metadata": {
  "kernelspec": {
   "display_name": "Python 3",
   "language": "python",
   "name": "python3"
  },
  "language_info": {
   "codemirror_mode": {
    "name": "ipython",
    "version": 3
   },
   "file_extension": ".py",
   "mimetype": "text/x-python",
   "name": "python",
   "nbconvert_exporter": "python",
   "pygments_lexer": "ipython3",
   "version": "3.8.10"
  }
 },
 "nbformat": 4,
 "nbformat_minor": 5
}
