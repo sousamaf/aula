{
 "cells": [
  {
   "cell_type": "markdown",
   "id": "feefeec9",
   "metadata": {},
   "source": [
    "# Implementação do AG\n",
    "\n",
    "Algoritmo Genético implementado em Python com uso do Numpy."
   ]
  },
  {
   "cell_type": "code",
   "execution_count": 3,
   "id": "3bd19703",
   "metadata": {},
   "outputs": [],
   "source": [
    "import numpy as np\n",
    "import matplotlib.pyplot as plt"
   ]
  },
  {
   "cell_type": "code",
   "execution_count": 15,
   "id": "bdb11f1d",
   "metadata": {},
   "outputs": [],
   "source": [
    "TAM_POP = 10\n",
    "TAM_GENE = 10\n",
    "GERACAO = 100\n",
    "\n",
    "TX_CRUZAMENTO = 90\n",
    "TX_ELITISMO = 10\n",
    "TX_MUTACAO = 5\n",
    "\n",
    "pop = []\n",
    "pop_aux = []"
   ]
  },
  {
   "cell_type": "code",
   "execution_count": 43,
   "id": "702853c6",
   "metadata": {},
   "outputs": [],
   "source": [
    "def criar_pop_inicial(TAM_POP, TAM_GENE):\n",
    "    return np.random.randint(0, 2, [TAM_POP, TAM_GENE])\n",
    "\n",
    "def selecao(TAM_POP):\n",
    "    pai1 = np.random.randint(0, TAM_POP)\n",
    "    pai2 = np.random.randint(0, TAM_POP)\n",
    "    while pai1 == pai2:\n",
    "        pai2 = np.random.randint(0, TAM_POP)\n",
    "    return [pai1, pai2]\n",
    "\n",
    "def mutacao(q):\n",
    "    gene1 = np.random.randint(0, TAM_GENE)\n",
    "    gene2 = np.random.randint(0, TAM_GENE)\n",
    "    \n",
    "    ind1 = pop[q[0]]\n",
    "    ind2 = pop[q[1]]\n",
    "    \n",
    "    print(ind1, gene1)\n",
    "    ind1[gene1] = 1 if ind1[gene1] == 0 else 0\n",
    "    ind2[gene2] = 1 if ind2[gene2] == 0 else 0\n",
    "    print(ind1, gene1)\n",
    "    return [ind1, ind2]\n",
    "\n",
    "def cruzamento_simples(q):\n",
    "    pai1 = pop[q[0]]\n",
    "    pai2 = pop[q[1]]\n",
    "    desc1 = np.zeros(TAM_GENE, dtype=np.int)\n",
    "    desc2 = np.zeros(TAM_GENE, dtype=np.int)\n",
    "    \n",
    "    meio = int(TAM_GENE/2)\n",
    "    for i in range(TAM_GENE):\n",
    "        if i < meio:\n",
    "            desc1[i] = pai1[i]\n",
    "            desc2[i] = pai2[i]\n",
    "        else:\n",
    "            desc1[i] = pai2[i]\n",
    "            desc2[i] = pai1[i]\n",
    "    return [desc1, desc2]\n",
    "\n",
    "\"\"\"\n",
    "Método que implementa o cruzamento composto por dois\n",
    "pontos de corte.\n",
    "args:\n",
    "    q: array com duas posições referente à posições de \n",
    "    elementos na matriz pop\n",
    "return:\n",
    "    [] array contendo dois novos indivíduos.\n",
    "\"\"\"\n",
    "def cruzamento_composto(q):\n",
    "    pass\n",
    "\n",
    "\"\"\"\n",
    "Método que implementa o cruzamento uniforme.\n",
    "args:\n",
    "    q: array com duas posições referente à posições de \n",
    "    elementos na matriz pop\n",
    "return:\n",
    "    [] array contendo dois novos indivíduos.\n",
    "\"\"\"\n",
    "def cruzamento_mascara(q):\n",
    "    pass\n",
    "    \n",
    "def substituicao():\n",
    "    pop = pop_aux\n",
    "\n",
    "def avaliacao():\n",
    "    pass\n",
    "\n",
    "def parada(GERACAO, g):\n",
    "    \n",
    "    if g > geracao:\n",
    "        return True\n",
    "    \n",
    "    return False\n",
    "\n",
    "def qtd_individuos(TAM_POP, taxa):\n",
    "      return int((TAM_POP * taxa) / 100)\n",
    "    "
   ]
  },
  {
   "cell_type": "code",
   "execution_count": 44,
   "id": "86657948",
   "metadata": {},
   "outputs": [
    {
     "name": "stdout",
     "output_type": "stream",
     "text": [
      "[0 1 0 0 1 1 1 1 0 1] 1\n",
      "[0 0 0 0 1 1 1 1 0 1] 1\n",
      "<class 'numpy.ndarray'>\n"
     ]
    },
    {
     "data": {
      "text/plain": [
       "array([[0, 1, 1, 0, 1, 1, 1, 1, 0, 1],\n",
       "       [0, 1, 0, 0, 1, 1, 0, 0, 1, 0],\n",
       "       [0, 0, 1, 0, 1, 1, 0, 1, 0, 1],\n",
       "       [0, 1, 0, 1, 0, 1, 1, 0, 1, 0],\n",
       "       [0, 1, 1, 0, 1, 0, 1, 0, 0, 0],\n",
       "       [1, 1, 1, 1, 0, 1, 0, 0, 1, 0],\n",
       "       [0, 1, 0, 0, 1, 0, 0, 0, 1, 1],\n",
       "       [0, 1, 1, 1, 0, 1, 1, 1, 0, 1],\n",
       "       [1, 1, 1, 0, 0, 1, 1, 0, 1, 1],\n",
       "       [1, 0, 0, 0, 1, 1, 0, 0, 1, 0]])"
      ]
     },
     "execution_count": 44,
     "metadata": {},
     "output_type": "execute_result"
    }
   ],
   "source": [
    "pop = criar_pop_inicial(10, 10)\n",
    "pop_aux = criar_pop_inicial(10, 10)\n",
    "# pop_aux = []\n",
    "\n",
    "for g in range(1):\n",
    "    \n",
    "    # Cruzamento\n",
    "    qtd_ind_cruzamento = qtd_individuos(TAM_POP, TX_CRUZAMENTO)\n",
    "    qtd_cruzamento = int(qtd_ind_cruzamento/2)\n",
    "    for i in range(qtd_cruzamento):\n",
    "        q = selecao(TAM_POP)\n",
    "        \n",
    "        descendentes = cruzamento_simples(q)\n",
    "        \n",
    "        pos = (1 * i) + i\n",
    "        pop_aux[pos] = descendentes[0]\n",
    "        pop_aux[pos + 1] = descendentes[1]\n",
    "\n",
    "    # Mutação\n",
    "    q = selecao(TAM_POP)\n",
    "    mutantes = mutacao(q)\n",
    "    \n",
    "\n",
    "#     substituicao()\n",
    "#     avaliacao()\n",
    "    \n",
    "# exibição do melhor indivíduo"
   ]
  },
  {
   "cell_type": "code",
   "execution_count": 33,
   "id": "f3ea84f1",
   "metadata": {},
   "outputs": [
    {
     "name": "stdout",
     "output_type": "stream",
     "text": [
      "0\n",
      "1\n",
      "2\n",
      "3\n",
      "4\n",
      "5\n",
      "6\n",
      "7\n"
     ]
    }
   ],
   "source": [
    "for i in range(4):\n",
    "    pos = (1 * i) + i\n",
    "    print(pos)\n",
    "    print(pos + 1)"
   ]
  },
  {
   "cell_type": "code",
   "execution_count": 41,
   "id": "cef6ef65",
   "metadata": {},
   "outputs": [
    {
     "data": {
      "text/plain": [
       "1"
      ]
     },
     "execution_count": 41,
     "metadata": {},
     "output_type": "execute_result"
    }
   ],
   "source": [
    "x = 0\n"
   ]
  },
  {
   "cell_type": "code",
   "execution_count": null,
   "id": "8b2fc4da",
   "metadata": {},
   "outputs": [],
   "source": []
  }
 ],
 "metadata": {
  "interpreter": {
   "hash": "1c7eab39d7aa1d8e2835961e1ccfe153d1be58c1d7c8b4b6ce336304cb4d774e"
  },
  "kernelspec": {
   "display_name": "Python 3",
   "language": "python",
   "name": "python3"
  },
  "language_info": {
   "codemirror_mode": {
    "name": "ipython",
    "version": 3
   },
   "file_extension": ".py",
   "mimetype": "text/x-python",
   "name": "python",
   "nbconvert_exporter": "python",
   "pygments_lexer": "ipython3",
   "version": "3.8.10"
  }
 },
 "nbformat": 4,
 "nbformat_minor": 5
}
