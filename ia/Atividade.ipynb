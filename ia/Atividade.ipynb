{
 "cells": [
  {
   "cell_type": "markdown",
   "id": "ee5ce158",
   "metadata": {
    "slideshow": {
     "slide_type": "slide"
    }
   },
   "source": [
    "# Atividade\n",
    "\n",
    "Apresente uma descrição, com suas palavras, de cada termo apresentado a seguir. Ao final de cada termo descrito deixe o link da fonte utilizada no estudo, seja um texto, livro ou vídeo no youtube.\n",
    "\n",
    "\n",
    "# Unidades de processamento\n",
    "\n",
    "* Perceptron\n",
    "* Adaline\n",
    "* Sigmoid"
   ]
  },
  {
   "cell_type": "markdown",
   "id": "fc9446bd",
   "metadata": {
    "slideshow": {
     "slide_type": "slide"
    }
   },
   "source": [
    "# Redes Neurais"
   ]
  },
  {
   "cell_type": "markdown",
   "id": "6f1822cb",
   "metadata": {
    "slideshow": {
     "slide_type": "slide"
    }
   },
   "source": [
    "# Parâmetros, hyperparâmetros e características relevantes\n",
    "\n",
    "* backpropagation\n",
    "* learning rate\n",
    "* learning rate decay\n",
    "* momentum\n",
    "* dropout\n",
    "* l1 / l2 regularization\n",
    "* mini-batch GD\n",
    "* freezing\n",
    "* early stopping\n",
    "* batch normalization"
   ]
  },
  {
   "cell_type": "markdown",
   "id": "5a76c531",
   "metadata": {},
   "source": [
    "## Ponto de partida:\n",
    "https://towardsdatascience.com/what-are-hyperparameters-and-how-to-tune-the-hyperparameters-in-a-deep-neural-network-d0604917584a"
   ]
  },
  {
   "cell_type": "markdown",
   "id": "97bd4b7b",
   "metadata": {
    "slideshow": {
     "slide_type": "slide"
    }
   },
   "source": [
    "# Vamos brincar?\n",
    "\n",
    "https://playground.tensorflow.org\n",
    "    "
   ]
  },
  {
   "cell_type": "code",
   "execution_count": null,
   "id": "cf136d1f",
   "metadata": {},
   "outputs": [],
   "source": []
  }
 ],
 "metadata": {
  "celltoolbar": "Slideshow",
  "kernelspec": {
   "display_name": "Python 3",
   "language": "python",
   "name": "python3"
  },
  "language_info": {
   "codemirror_mode": {
    "name": "ipython",
    "version": 3
   },
   "file_extension": ".py",
   "mimetype": "text/x-python",
   "name": "python",
   "nbconvert_exporter": "python",
   "pygments_lexer": "ipython3",
   "version": "3.8.10"
  }
 },
 "nbformat": 4,
 "nbformat_minor": 5
}
