{
 "cells": [
  {
   "cell_type": "markdown",
   "source": [
    "# Implementação do AG\n",
    "\n",
    "Algoritmo Genético implementado em Python com uso do Numpy."
   ],
   "metadata": {}
  },
  {
   "cell_type": "code",
   "execution_count": 2,
   "source": [
    "import numpy as np\r\n",
    "import matplotlib.pyplot as plt"
   ],
   "outputs": [],
   "metadata": {}
  },
  {
   "cell_type": "code",
   "execution_count": 3,
   "source": [
    "TAM_POP = 10\r\n",
    "TAM_GENE = 10\r\n",
    "geracao = 100\r\n",
    "\r\n",
    "pop = []\r\n",
    "pop_aux = []"
   ],
   "outputs": [],
   "metadata": {}
  },
  {
   "cell_type": "code",
   "execution_count": 4,
   "source": [
    "def criar_pop_inicial(TAM_POP, TAM_GENE):\r\n",
    "    return np.random.randint(0, 2, [TAM_POP, TAM_GENE])\r\n",
    "\r\n",
    "def selecao(TAM_POP):\r\n",
    "    pai1 = np.random.randint(0, TAM_POP)\r\n",
    "    pai2 = np.random.randint(0, TAM_POP)\r\n",
    "    while pai1 == pai2:\r\n",
    "        pai2 = np.random.randint(0, TAM_POP)\r\n",
    "    return [pai1, pai2]\r\n",
    "\r\n",
    "def cruzamento_simples(q):\r\n",
    "    pai1 = pop[q[0]]\r\n",
    "    pai2 = pop[q[1]]\r\n",
    "    desc1 = np.zeros(TAM_GENE, dtype=np.int)\r\n",
    "    desc2 = np.zeros(TAM_GENE, dtype=np.int)\r\n",
    "    \r\n",
    "    meio = int(TAM_GENE/2)\r\n",
    "    for i in range(TAM_GENE):\r\n",
    "        if i < meio:\r\n",
    "            desc1[i] = pai1[i]\r\n",
    "            desc2[i] = pai2[i]\r\n",
    "        else:\r\n",
    "            desc1[i] = pai2[i]\r\n",
    "            desc2[i] = pai1[i]\r\n",
    "    return [desc1, desc2]\r\n",
    "\r\n",
    "\"\"\"\r\n",
    "Método que implementa o cruzamento composto por dois\r\n",
    "pontos de corte.\r\n",
    "args:\r\n",
    "    q: array com duas posições referente à posições de \r\n",
    "    elementos na matriz pop\r\n",
    "return:\r\n",
    "    [] array contendo dois novos indivíduos.\r\n",
    "\"\"\"\r\n",
    "def cruzamento_composto(q):\r\n",
    "    pass\r\n",
    "\r\n",
    "\"\"\"\r\n",
    "Método que implementa o cruzamento uniforme.\r\n",
    "args:\r\n",
    "    q: array com duas posições referente à posições de \r\n",
    "    elementos na matriz pop\r\n",
    "return:\r\n",
    "    [] array contendo dois novos indivíduos.\r\n",
    "\"\"\"\r\n",
    "def cruzamento_mascara(q):\r\n",
    "    pass\r\n",
    "    \r\n",
    "def substituicao():\r\n",
    "    pop = pop_aux\r\n",
    "\r\n",
    "def avaliacao():\r\n",
    "    pass"
   ],
   "outputs": [],
   "metadata": {}
  },
  {
   "cell_type": "code",
   "execution_count": 92,
   "source": [
    "pop = criar_pop_inicial(10, 10)\r\n",
    "pop_aux = criar_pop_inicial(10, 10)\r\n",
    "\r\n",
    "for g in range(geracao):\r\n",
    "    while CONDICAO:\r\n",
    "        for \r\n",
    "            q = selecao(TAM_POP)\r\n",
    "            descendentes = cruzamento_simples(q)\r\n",
    "\r\n",
    "            \r\n",
    "    substituicao()\r\n",
    "    avaliacao()\r\n",
    "    \r\n",
    "# exibição do melhor indivíduo"
   ],
   "outputs": [
    {
     "output_type": "execute_result",
     "data": {
      "text/plain": [
       "[array([0, 0, 0, 0, 0, 0, 1, 1, 1, 1]), array([1, 1, 1, 1, 0, 0, 1, 0, 0, 1])]"
      ]
     },
     "metadata": {},
     "execution_count": 92
    }
   ],
   "metadata": {}
  },
  {
   "cell_type": "code",
   "execution_count": null,
   "source": [],
   "outputs": [],
   "metadata": {}
  }
 ],
 "metadata": {
  "kernelspec": {
   "name": "python3",
   "display_name": "Python 3.8.3 64-bit"
  },
  "language_info": {
   "codemirror_mode": {
    "name": "ipython",
    "version": 3
   },
   "file_extension": ".py",
   "mimetype": "text/x-python",
   "name": "python",
   "nbconvert_exporter": "python",
   "pygments_lexer": "ipython3",
   "version": "3.8.3"
  },
  "interpreter": {
   "hash": "1c7eab39d7aa1d8e2835961e1ccfe153d1be58c1d7c8b4b6ce336304cb4d774e"
  }
 },
 "nbformat": 4,
 "nbformat_minor": 5
}