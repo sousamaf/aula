{
 "cells": [
  {
   "cell_type": "markdown",
   "id": "77417695",
   "metadata": {},
   "source": [
    "# Dúvidas Gerais\n",
    "\n",
    "- Quais foram os termos não compreendidos?\n",
    "- Vamos escolher um dataset para exemplificar cada termo estatístico?"
   ]
  },
  {
   "cell_type": "code",
   "execution_count": 1,
   "id": "3a9cfa23",
   "metadata": {},
   "outputs": [],
   "source": [
    "n_compreendidos = [\n",
    "    \"distribuição de frequência\",\n",
    "    \"moda\",\n",
    "    \"mediana\",\n",
    "    \"variância\",\n",
    "    \"correlação\",\n",
    "    \"mapa de calor\",\n",
    "    \"medidas de separatriz\",\n",
    "    \"boxplot\",\n",
    "]"
   ]
  },
  {
   "cell_type": "code",
   "execution_count": 2,
   "id": "bf9a8432",
   "metadata": {},
   "outputs": [],
   "source": [
    "url_para_estudar = \"http://www.each.usp.br/rvicente/Guedes_etal_Estatistica_Descritiva.pdf\""
   ]
  },
  {
   "cell_type": "code",
   "execution_count": null,
   "id": "7604c65b",
   "metadata": {},
   "outputs": [],
   "source": []
  }
 ],
 "metadata": {
  "kernelspec": {
   "display_name": "Python 3",
   "language": "python",
   "name": "python3"
  },
  "language_info": {
   "codemirror_mode": {
    "name": "ipython",
    "version": 3
   },
   "file_extension": ".py",
   "mimetype": "text/x-python",
   "name": "python",
   "nbconvert_exporter": "python",
   "pygments_lexer": "ipython3",
   "version": "3.8.10"
  }
 },
 "nbformat": 4,
 "nbformat_minor": 5
}
