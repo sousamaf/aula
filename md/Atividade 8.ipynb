{
 "cells": [
  {
   "cell_type": "markdown",
   "id": "b3fa5914",
   "metadata": {},
   "source": [
    "# Atividade prática\n",
    "## Regressão Linear"
   ]
  },
  {
   "cell_type": "markdown",
   "id": "e7a49577",
   "metadata": {},
   "source": [
    "### Dataset e duplas\n",
    "- Air Quality: _Francisco e Juliano_\n",
    "- Appliances energy prediction: _Fernanda e Barkley_\n",
    "- Beijing Multi-Site Air-Quality Data: \n",
    "- Forest Fires: _Vagner e Paulo_\n",
    "- Bike Sharing Dataset: \n",
    "- Energy efficiency: \n"
   ]
  },
  {
   "cell_type": "markdown",
   "id": "7b463083",
   "metadata": {},
   "source": [
    "## O que fazer\n",
    "\n",
    "- Análise inicial do dataset: análise exploratória:\n",
    "    - você perceber o que tem nas mãos; \n",
    "    - reconher os atributos, seus tipos;\n",
    "    - se existem dados faltantes ou ausentes;\n",
    "    - se existem outliers;\n",
    "    - frequência, moda, média, mediana;\n",
    "    - distribuição dos dados: quartis;\n",
    "- Realizar o processo de regressão linear."
   ]
  },
  {
   "cell_type": "code",
   "execution_count": null,
   "id": "48f6e803",
   "metadata": {},
   "outputs": [],
   "source": []
  }
 ],
 "metadata": {
  "kernelspec": {
   "display_name": "Python 3",
   "language": "python",
   "name": "python3"
  },
  "language_info": {
   "codemirror_mode": {
    "name": "ipython",
    "version": 3
   },
   "file_extension": ".py",
   "mimetype": "text/x-python",
   "name": "python",
   "nbconvert_exporter": "python",
   "pygments_lexer": "ipython3",
   "version": "3.8.10"
  }
 },
 "nbformat": 4,
 "nbformat_minor": 5
}
