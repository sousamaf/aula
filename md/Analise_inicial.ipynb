{
 "cells": [
  {
   "cell_type": "markdown",
   "id": "20fdbf12",
   "metadata": {},
   "source": [
    "# Análise exploratório do dataset Wine\n",
    "\n",
    "Análise inicial do dataset sobre propriedades fisico-química dos vinhos vermelho e branco."
   ]
  },
  {
   "cell_type": "code",
   "execution_count": 3,
   "id": "3542901e",
   "metadata": {},
   "outputs": [],
   "source": [
    "import numpy as np\n",
    "import pandas as pd\n",
    "from dataprep.eda import create_report"
   ]
  },
  {
   "cell_type": "code",
   "execution_count": 62,
   "id": "12cfff2c",
   "metadata": {
    "scrolled": false
   },
   "outputs": [],
   "source": [
    "url_v = \"https://archive.ics.uci.edu/ml/machine-learning-databases/wine-quality/winequality-red.csv\"\n",
    "url_b = \"https://archive.ics.uci.edu/ml/machine-learning-databases/wine-quality/winequality-white.csv\"\n",
    "\n",
    "df_v = pd.read_csv(url_v, delimiter=\";\")\n",
    "df_b = pd.read_csv(url_v, delimiter=\";\")\n"
   ]
  },
  {
   "cell_type": "code",
   "execution_count": 33,
   "id": "021f6aea",
   "metadata": {},
   "outputs": [],
   "source": [
    "df_v = df_v.set_axis(['fixed_acidity', 'volatile_acidity', 'citric_acid', 'residual_sugar', 'chlorides', 'free_sulfur_dioxide', 'total_sulfur_dioxide', 'density',\n",
    "       'pH', 'sulphates', 'alcohol', 'quality'], axis=1)\n",
    "# df_v.fixed_acidity"
   ]
  },
  {
   "cell_type": "code",
   "execution_count": 63,
   "id": "10980ba5",
   "metadata": {},
   "outputs": [
    {
     "data": {
      "text/plain": [
       "<AxesSubplot:ylabel='Frequency'>"
      ]
     },
     "execution_count": 63,
     "metadata": {},
     "output_type": "execute_result"
    },
    {
     "data": {
      "image/png": "[encoded data removed]",
      "text/plain": [
       "<Figure size 432x288 with 1 Axes>"
      ]
     },
     "metadata": {
      "needs_background": "light"
     },
     "output_type": "display_data"
    }
   ],
   "source": [
    "df_b.quality.plot.hist()"
   ]
  },
  {
   "cell_type": "code",
   "execution_count": 39,
   "id": "b8d5e84c",
   "metadata": {
    "scrolled": true
   },
   "outputs": [
    {
     "data": {
      "text/plain": [
       "count    1599.000000\n",
       "mean        8.319637\n",
       "std         1.741096\n",
       "min         4.600000\n",
       "25%         7.100000\n",
       "50%         7.900000\n",
       "75%         9.200000\n",
       "max        15.900000\n",
       "Name: fixed_acidity, dtype: float64"
      ]
     },
     "execution_count": 39,
     "metadata": {},
     "output_type": "execute_result"
    }
   ],
   "source": [
    "df_v.fixed_acidity.describe()"
   ]
  },
  {
   "cell_type": "code",
   "execution_count": 43,
   "id": "7289f6e7",
   "metadata": {},
   "outputs": [
    {
     "data": {
      "text/plain": [
       "<AxesSubplot:>"
      ]
     },
     "execution_count": 43,
     "metadata": {},
     "output_type": "execute_result"
    },
    {
     "data": {
      "image/png": "[encoded data removed]",
      "text/plain": [
       "<Figure size 432x288 with 1 Axes>"
      ]
     },
     "metadata": {
      "needs_background": "light"
     },
     "output_type": "display_data"
    }
   ],
   "source": [
    "df = pd.DataFrame(df_v.fixed_acidity, columns=['fixed_acidity'])\n",
    "df.boxplot()"
   ]
  },
  {
   "cell_type": "code",
   "execution_count": 61,
   "id": "6d336a68",
   "metadata": {},
   "outputs": [],
   "source": [
    "# create_report(df_v)"
   ]
  }
 ],
 "metadata": {
  "interpreter": {
   "hash": "1c7eab39d7aa1d8e2835961e1ccfe153d1be58c1d7c8b4b6ce336304cb4d774e"
  },
  "kernelspec": {
   "display_name": "Python 3",
   "language": "python",
   "name": "python3"
  },
  "language_info": {
   "codemirror_mode": {
    "name": "ipython",
    "version": 3
   },
   "file_extension": ".py",
   "mimetype": "text/x-python",
   "name": "python",
   "nbconvert_exporter": "python",
   "pygments_lexer": "ipython3",
   "version": "3.8.10"
  }
 },
 "nbformat": 4,
 "nbformat_minor": 5
}
