{
 "cells": [
  {
   "cell_type": "markdown",
   "id": "d3d8d932",
   "metadata": {
    "slideshow": {
     "slide_type": "slide"
    }
   },
   "source": [
    "# Como são classificados os repositórios?\n",
    "\n",
    "- Públicos ou privados (mediante pagamento)\n",
    "- Comerciais ou Científicos\n",
    "\n"
   ]
  },
  {
   "cell_type": "markdown",
   "id": "34b7c594",
   "metadata": {
    "slideshow": {
     "slide_type": "slide"
    }
   },
   "source": [
    "# Exemplos:\n",
    "\n",
    "- Privados: Data Nature\n",
    "- Públicos: UCI\n",
    "- Comerciais: Kaggle\n",
    "- Científicos: Drayd\n",
    "- Científicos de nincho: DataOne\n",
    "- Acadêmico: Zenodo"
   ]
  },
  {
   "cell_type": "markdown",
   "id": "cbba3249",
   "metadata": {
    "slideshow": {
     "slide_type": "subslide"
    }
   },
   "source": [
    "![nature](./img/repository_nature.png)"
   ]
  },
  {
   "cell_type": "markdown",
   "id": "53e078f8",
   "metadata": {
    "slideshow": {
     "slide_type": "subslide"
    }
   },
   "source": [
    "![uci](./img/repository_uci.png)"
   ]
  },
  {
   "cell_type": "markdown",
   "id": "a2cd2b99",
   "metadata": {
    "slideshow": {
     "slide_type": "subslide"
    }
   },
   "source": [
    "![kaggle](./img/repository_kaggle.png)"
   ]
  },
  {
   "cell_type": "markdown",
   "id": "90074254",
   "metadata": {
    "slideshow": {
     "slide_type": "subslide"
    }
   },
   "source": [
    "![drayd](./img/repository_dryad.png)"
   ]
  },
  {
   "cell_type": "markdown",
   "id": "28f19f8e",
   "metadata": {
    "slideshow": {
     "slide_type": "subslide"
    }
   },
   "source": [
    "![dataone](./img/repository_dataone.png)"
   ]
  },
  {
   "cell_type": "markdown",
   "id": "f6e14b21",
   "metadata": {
    "slideshow": {
     "slide_type": "subslide"
    }
   },
   "source": [
    "![zenodo](./img/repository_zenodo.png)"
   ]
  },
  {
   "cell_type": "code",
   "execution_count": null,
   "id": "d77c2ded",
   "metadata": {},
   "outputs": [],
   "source": []
  }
 ],
 "metadata": {
  "celltoolbar": "Slideshow",
  "kernelspec": {
   "display_name": "Python 3",
   "language": "python",
   "name": "python3"
  },
  "language_info": {
   "codemirror_mode": {
    "name": "ipython",
    "version": 3
   },
   "file_extension": ".py",
   "mimetype": "text/x-python",
   "name": "python",
   "nbconvert_exporter": "python",
   "pygments_lexer": "ipython3",
   "version": "3.8.10"
  }
 },
 "nbformat": 4,
 "nbformat_minor": 5
}
